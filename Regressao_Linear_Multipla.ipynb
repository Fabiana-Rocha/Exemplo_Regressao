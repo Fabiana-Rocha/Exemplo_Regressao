{
 "cells": [
  {
   "cell_type": "markdown",
   "id": "4a46d151",
   "metadata": {},
   "source": [
    "Este projeto refere-se a um exemplo de Regressão Linear Múltipla"
   ]
  },
  {
   "cell_type": "markdown",
   "id": "0263c2fc",
   "metadata": {},
   "source": [
    "**Definindo o Problema de Negócio**\n",
    "\n",
    "O projeto a seguir tem como objetivo construir um modelo de Machine Learning que seja capaz de realizar previsões sobre o nível de pressão sonora (decibéis), em aerofólios bi e tridimensinos em um túnel de vento."
   ]
  },
  {
   "cell_type": "markdown",
   "id": "8db795c4",
   "metadata": {},
   "source": [
    "**Definindo o Dataset**\n",
    "\n",
    "Para realizar tais previsões, utilizou-se uma base de dados da NASA, que foi obtida a partir de uma série de tesets aerondinâmicos e acústicos de seções da lâmina de aerofólio bidimensionais e tridimensionais realizadas em um túnel de vento anecóico.\n",
    "\n",
    "A base de consiste em diferentes tamanhos de perfis aerodinâmicos NACA 0012 para uma variedade de velocidade e ângulos de ataque, é válido salientar que a extensão do aerofólio e a posição do observador foram mantidas constantes em todas as experiências.\n",
    "\n",
    "A base estão disponível em:https://archive.ics.uci.edu/ml/datasets/airfoil+self-noise#"
   ]
  },
  {
   "cell_type": "markdown",
   "id": "b69002b7",
   "metadata": {},
   "source": [
    "<br>\n",
    "Características da Base de Dados:\n",
    "<br>\n",
    "<img src=\"Caracteristicas_Airfoil.jpg\">\n",
    "\n",
    "Informações dos Atributos:\n",
    "\n",
    "*Inputs*\n",
    "1. Frequency, in Hertzs\n",
    "2. Angle of attack, in degrees\n",
    "3. Chord length, in meters\n",
    "4. Free-stream velocity, in meters per second\n",
    "5. Suction side displacement thickness, in meters\n",
    "\n",
    "*Output*\n",
    "\n",
    "6. Scaled sound pressure level, in decibels"
   ]
  },
  {
   "cell_type": "code",
   "execution_count": 1,
   "id": "4120ef52",
   "metadata": {},
   "outputs": [],
   "source": [
    "import numpy as np\n",
    "import pandas as pd\n",
    "from sklearn.model_selection import train_test_split\n",
    "from sklearn.linear_model import LinearRegression\n",
    "from sklearn.metrics import mean_squared_error, r2_score\n",
    "import warnings\n",
    "warnings.filterwarnings(\"ignore\")"
   ]
  },
  {
   "cell_type": "code",
   "execution_count": 2,
   "id": "f9af0306",
   "metadata": {},
   "outputs": [],
   "source": [
    "#Carregando e organizando os dados em um DataFrame e nomeando os colunas de acordo com a definição da base de dados\n",
    "dados = pd.DataFrame( \n",
    "    [[float(token) for token in line.split()]  \n",
    "        for line in open('airfoil_self_noise.dat') if line.strip()],\n",
    "     columns = ['Frequency', 'Angle', 'Chord length', 'Free-stream velocity', 'Suction side displacement thickness', 'Scaled sound pressure level']\n",
    ")"
   ]
  },
  {
   "cell_type": "code",
   "execution_count": 3,
   "id": "762f0786",
   "metadata": {},
   "outputs": [
    {
     "data": {
      "text/html": [
       "<div>\n",
       "<style scoped>\n",
       "    .dataframe tbody tr th:only-of-type {\n",
       "        vertical-align: middle;\n",
       "    }\n",
       "\n",
       "    .dataframe tbody tr th {\n",
       "        vertical-align: top;\n",
       "    }\n",
       "\n",
       "    .dataframe thead th {\n",
       "        text-align: right;\n",
       "    }\n",
       "</style>\n",
       "<table border=\"1\" class=\"dataframe\">\n",
       "  <thead>\n",
       "    <tr style=\"text-align: right;\">\n",
       "      <th></th>\n",
       "      <th>Frequency</th>\n",
       "      <th>Angle</th>\n",
       "      <th>Chord length</th>\n",
       "      <th>Free-stream velocity</th>\n",
       "      <th>Suction side displacement thickness</th>\n",
       "      <th>Scaled sound pressure level</th>\n",
       "    </tr>\n",
       "  </thead>\n",
       "  <tbody>\n",
       "    <tr>\n",
       "      <th>0</th>\n",
       "      <td>800.0</td>\n",
       "      <td>0.0</td>\n",
       "      <td>0.3048</td>\n",
       "      <td>71.3</td>\n",
       "      <td>0.002663</td>\n",
       "      <td>126.201</td>\n",
       "    </tr>\n",
       "    <tr>\n",
       "      <th>1</th>\n",
       "      <td>1000.0</td>\n",
       "      <td>0.0</td>\n",
       "      <td>0.3048</td>\n",
       "      <td>71.3</td>\n",
       "      <td>0.002663</td>\n",
       "      <td>125.201</td>\n",
       "    </tr>\n",
       "    <tr>\n",
       "      <th>2</th>\n",
       "      <td>1250.0</td>\n",
       "      <td>0.0</td>\n",
       "      <td>0.3048</td>\n",
       "      <td>71.3</td>\n",
       "      <td>0.002663</td>\n",
       "      <td>125.951</td>\n",
       "    </tr>\n",
       "    <tr>\n",
       "      <th>3</th>\n",
       "      <td>1600.0</td>\n",
       "      <td>0.0</td>\n",
       "      <td>0.3048</td>\n",
       "      <td>71.3</td>\n",
       "      <td>0.002663</td>\n",
       "      <td>127.591</td>\n",
       "    </tr>\n",
       "    <tr>\n",
       "      <th>4</th>\n",
       "      <td>2000.0</td>\n",
       "      <td>0.0</td>\n",
       "      <td>0.3048</td>\n",
       "      <td>71.3</td>\n",
       "      <td>0.002663</td>\n",
       "      <td>127.461</td>\n",
       "    </tr>\n",
       "  </tbody>\n",
       "</table>\n",
       "</div>"
      ],
      "text/plain": [
       "   Frequency  Angle  Chord length  Free-stream velocity  \\\n",
       "0      800.0    0.0        0.3048                  71.3   \n",
       "1     1000.0    0.0        0.3048                  71.3   \n",
       "2     1250.0    0.0        0.3048                  71.3   \n",
       "3     1600.0    0.0        0.3048                  71.3   \n",
       "4     2000.0    0.0        0.3048                  71.3   \n",
       "\n",
       "   Suction side displacement thickness  Scaled sound pressure level  \n",
       "0                             0.002663                      126.201  \n",
       "1                             0.002663                      125.201  \n",
       "2                             0.002663                      125.951  \n",
       "3                             0.002663                      127.591  \n",
       "4                             0.002663                      127.461  "
      ]
     },
     "execution_count": 3,
     "metadata": {},
     "output_type": "execute_result"
    }
   ],
   "source": [
    "#Cabeçalho da base de dados\n",
    "dados.head()"
   ]
  },
  {
   "cell_type": "code",
   "execution_count": 4,
   "id": "28948ce5",
   "metadata": {},
   "outputs": [
    {
     "name": "stdout",
     "output_type": "stream",
     "text": [
      "(1503, 6)\n"
     ]
    }
   ],
   "source": [
    "#Apresentado o tamanho da base de dados\n",
    "print(dados.shape)"
   ]
  },
  {
   "cell_type": "code",
   "execution_count": 5,
   "id": "3ad60255",
   "metadata": {},
   "outputs": [],
   "source": [
    "#Separando os valores de x e y, para trabalhar com regressão\n",
    "x = dados.iloc[:,:-1]\n",
    "y = dados['Scaled sound pressure level'].values"
   ]
  },
  {
   "cell_type": "code",
   "execution_count": 6,
   "id": "41219435",
   "metadata": {},
   "outputs": [
    {
     "data": {
      "text/html": [
       "<div>\n",
       "<style scoped>\n",
       "    .dataframe tbody tr th:only-of-type {\n",
       "        vertical-align: middle;\n",
       "    }\n",
       "\n",
       "    .dataframe tbody tr th {\n",
       "        vertical-align: top;\n",
       "    }\n",
       "\n",
       "    .dataframe thead th {\n",
       "        text-align: right;\n",
       "    }\n",
       "</style>\n",
       "<table border=\"1\" class=\"dataframe\">\n",
       "  <thead>\n",
       "    <tr style=\"text-align: right;\">\n",
       "      <th></th>\n",
       "      <th>Frequency</th>\n",
       "      <th>Angle</th>\n",
       "      <th>Chord length</th>\n",
       "      <th>Free-stream velocity</th>\n",
       "      <th>Suction side displacement thickness</th>\n",
       "    </tr>\n",
       "  </thead>\n",
       "  <tbody>\n",
       "    <tr>\n",
       "      <th>0</th>\n",
       "      <td>800.0</td>\n",
       "      <td>0.0</td>\n",
       "      <td>0.3048</td>\n",
       "      <td>71.3</td>\n",
       "      <td>0.002663</td>\n",
       "    </tr>\n",
       "    <tr>\n",
       "      <th>1</th>\n",
       "      <td>1000.0</td>\n",
       "      <td>0.0</td>\n",
       "      <td>0.3048</td>\n",
       "      <td>71.3</td>\n",
       "      <td>0.002663</td>\n",
       "    </tr>\n",
       "    <tr>\n",
       "      <th>2</th>\n",
       "      <td>1250.0</td>\n",
       "      <td>0.0</td>\n",
       "      <td>0.3048</td>\n",
       "      <td>71.3</td>\n",
       "      <td>0.002663</td>\n",
       "    </tr>\n",
       "    <tr>\n",
       "      <th>3</th>\n",
       "      <td>1600.0</td>\n",
       "      <td>0.0</td>\n",
       "      <td>0.3048</td>\n",
       "      <td>71.3</td>\n",
       "      <td>0.002663</td>\n",
       "    </tr>\n",
       "    <tr>\n",
       "      <th>4</th>\n",
       "      <td>2000.0</td>\n",
       "      <td>0.0</td>\n",
       "      <td>0.3048</td>\n",
       "      <td>71.3</td>\n",
       "      <td>0.002663</td>\n",
       "    </tr>\n",
       "  </tbody>\n",
       "</table>\n",
       "</div>"
      ],
      "text/plain": [
       "   Frequency  Angle  Chord length  Free-stream velocity  \\\n",
       "0      800.0    0.0        0.3048                  71.3   \n",
       "1     1000.0    0.0        0.3048                  71.3   \n",
       "2     1250.0    0.0        0.3048                  71.3   \n",
       "3     1600.0    0.0        0.3048                  71.3   \n",
       "4     2000.0    0.0        0.3048                  71.3   \n",
       "\n",
       "   Suction side displacement thickness  \n",
       "0                             0.002663  \n",
       "1                             0.002663  \n",
       "2                             0.002663  \n",
       "3                             0.002663  \n",
       "4                             0.002663  "
      ]
     },
     "execution_count": 6,
     "metadata": {},
     "output_type": "execute_result"
    }
   ],
   "source": [
    "#Variáveis explanatórias, todas as variáveis serão utilizadas\n",
    "x.head()"
   ]
  },
  {
   "cell_type": "code",
   "execution_count": 7,
   "id": "67459bc1",
   "metadata": {},
   "outputs": [
    {
     "data": {
      "text/plain": [
       "(1503, 5)"
      ]
     },
     "execution_count": 7,
     "metadata": {},
     "output_type": "execute_result"
    }
   ],
   "source": [
    "x.shape"
   ]
  },
  {
   "cell_type": "code",
   "execution_count": 8,
   "id": "9bb4839c",
   "metadata": {},
   "outputs": [
    {
     "data": {
      "text/plain": [
       "array([126.201, 125.201, 125.951, ..., 106.604, 106.224, 104.204])"
      ]
     },
     "execution_count": 8,
     "metadata": {},
     "output_type": "execute_result"
    }
   ],
   "source": [
    "#Variável target\n",
    "y"
   ]
  },
  {
   "cell_type": "code",
   "execution_count": 9,
   "id": "b93cced9",
   "metadata": {},
   "outputs": [],
   "source": [
    "#Divisão em dados de treino e de teste\n",
    "x_treino, x_teste, y_treino, y_teste = train_test_split(x, y, test_size = 0.2, random_state = 111)"
   ]
  },
  {
   "cell_type": "code",
   "execution_count": 10,
   "id": "db43e6da",
   "metadata": {},
   "outputs": [
    {
     "name": "stdout",
     "output_type": "stream",
     "text": [
      "(1202, 5)\n",
      "(301, 5)\n",
      "(1202,)\n",
      "(301,)\n"
     ]
    }
   ],
   "source": [
    "print(x_treino.shape)\n",
    "print(x_teste.shape)\n",
    "print(y_treino.shape)\n",
    "print(y_teste.shape)"
   ]
  },
  {
   "cell_type": "code",
   "execution_count": 11,
   "id": "0649a5c8",
   "metadata": {},
   "outputs": [],
   "source": [
    "#Criando o modelo de Regressão\n",
    "modelo = LinearRegression(normalize=False, fit_intercept=True)"
   ]
  },
  {
   "cell_type": "code",
   "execution_count": 12,
   "id": "84c00161",
   "metadata": {},
   "outputs": [],
   "source": [
    "#Ajuste do modelo\n",
    "model_fit = modelo.fit(x_treino, y_treino)"
   ]
  },
  {
   "cell_type": "code",
   "execution_count": 13,
   "id": "e2ff8925",
   "metadata": {},
   "outputs": [],
   "source": [
    "#Realiza a previsão do modelo com os dados de testes\n",
    "previsao = model_fit.predict(x_teste)"
   ]
  },
  {
   "cell_type": "code",
   "execution_count": 14,
   "id": "14337d22",
   "metadata": {},
   "outputs": [
    {
     "name": "stdout",
     "output_type": "stream",
     "text": [
      "Coeficientes: \n",
      " [-1.29743024e-03 -4.46061038e-01 -3.65674836e+01  9.71095832e-02\n",
      " -1.40273274e+02]\n"
     ]
    }
   ],
   "source": [
    "#Apresenta os coeficientes do modelo\n",
    "print(\"Coeficientes: \\n\", modelo.coef_)"
   ]
  },
  {
   "cell_type": "code",
   "execution_count": 15,
   "id": "c0615c46",
   "metadata": {},
   "outputs": [
    {
     "name": "stdout",
     "output_type": "stream",
     "text": [
      "Erro médio quadrático:  27.48723486697837\n"
     ]
    }
   ],
   "source": [
    "#Calcula o erro médio quadrático\n",
    "erro_medio_quad = mean_squared_error(y_teste, previsao)\n",
    "print(\"Erro médio quadrático: \", erro_medio_quad)"
   ]
  },
  {
   "cell_type": "code",
   "execution_count": 16,
   "id": "5620ebae",
   "metadata": {},
   "outputs": [
    {
     "name": "stdout",
     "output_type": "stream",
     "text": [
      "0.47653161957482904\n"
     ]
    }
   ],
   "source": [
    "#Calculando a métrica R2 (coeficiente de determinação) do nosso modelo\n",
    "coef_determ = r2_score(y_teste, previsao)\n",
    "print(coef_determ)"
   ]
  },
  {
   "cell_type": "markdown",
   "id": "0a09d50d",
   "metadata": {},
   "source": [
    "O coeficiente de determinação é uma medida útil para verificar a qualidade do ajuste por regressão, se próximo de 1, a regressão é considerada útil. Neste caso, o coeficiente de determinação não está próximo de 1. Sendo assim, a regressão não se apresenta útil para o problema, isso pode estar relacionado ao uso de todas as variáveis explonatórias."
   ]
  },
  {
   "cell_type": "markdown",
   "id": "9b0bf6af",
   "metadata": {},
   "source": [
    "**Referências Bibliográficas**\n",
    "\n",
    "[1] Brooks,Thomas, Pope,D. & Marcolini,Michael. (2014). Airfoil Self-Noise. UCI Machine Learning Repository.\n",
    "\n",
    "[2] ALPAYDIN, E. Introduction to machine learing. EUA: Massachusetts Institute of Technology, 2010.\n",
    "\n",
    "[3] https://scikit-learn.org/stable/modules/generated/sklearn.linear_model.LinearRegression.html"
   ]
  }
 ],
 "metadata": {
  "kernelspec": {
   "display_name": "Python 3 (ipykernel)",
   "language": "python",
   "name": "python3"
  },
  "language_info": {
   "codemirror_mode": {
    "name": "ipython",
    "version": 3
   },
   "file_extension": ".py",
   "mimetype": "text/x-python",
   "name": "python",
   "nbconvert_exporter": "python",
   "pygments_lexer": "ipython3",
   "version": "3.9.12"
  }
 },
 "nbformat": 4,
 "nbformat_minor": 5
}
